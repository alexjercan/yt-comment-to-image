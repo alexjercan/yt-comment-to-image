{
 "cells": [
  {
   "cell_type": "code",
   "execution_count": 16,
   "metadata": {},
   "outputs": [],
   "source": [
    "import urllib.request, urllib.error, urllib.parse\r\n",
    "from bs4 import BeautifulSoup\r\n",
    "from html2image import Html2Image\r\n",
    "from tqdm import tqdm\r\n",
    "import os\r\n",
    "import shutil\r\n",
    "from IPython.display import Image, display"
   ]
  },
  {
   "cell_type": "code",
   "execution_count": null,
   "metadata": {},
   "outputs": [],
   "source": [
    "def init_youtubestrap():\r\n",
    "    # Read the contents of the youtubestrap.html file and setup styles and new content tag\r\n",
    "    # download a yt webpage to change\r\n",
    "    url = \"https://www.youtube.com/watch?v=1-emQo-7O3Y\"\r\n",
    "    youtubestrap_file_path = \"youtubestrap.html\"\r\n",
    "\r\n",
    "    response = urllib.request.urlopen(url)\r\n",
    "    index_file_content = response.read()\r\n",
    "\r\n",
    "    with open(youtubestrap_file_path, \"r\", encoding=\"utf8\") as f:\r\n",
    "        youtubestrap = f.read()\r\n",
    "\r\n",
    "    youtubestrap_html = BeautifulSoup(youtubestrap, features=\"html.parser\")\r\n",
    "    youtubestrap_head_html = youtubestrap_html.find(\"head\")\r\n",
    "\r\n",
    "    youtubestrap_styles_html = youtubestrap_head_html.children\r\n",
    "    youtubestrap_body_html = youtubestrap_html.find(\"body\")\r\n",
    "\r\n",
    "    index_html = BeautifulSoup(index_file_content, features=\"html.parser\")\r\n",
    "\r\n",
    "    head_tag = index_html.find(\"head\")\r\n",
    "    head_tag.extend(list(youtubestrap_styles_html))\r\n",
    "\r\n",
    "    body_tag = index_html.find(\"body\")\r\n",
    "    body_tag.replaceWith(youtubestrap_body_html)\r\n",
    "\r\n",
    "    return index_html"
   ]
  },
  {
   "cell_type": "code",
   "execution_count": null,
   "metadata": {},
   "outputs": [],
   "source": [
    "def read_comments(comments_filepath):\r\n",
    "    ytd_comment_tagname = \"ytd-comment-renderer\"\r\n",
    "\r\n",
    "    with open(comments_filepath, \"r\", encoding=\"utf8\") as f:\r\n",
    "        comments_file_content = f.read()\r\n",
    "\r\n",
    "    comments_html = BeautifulSoup(comments_file_content, features=\"html.parser\")\r\n",
    "    comments_html_list = comments_html(ytd_comment_tagname)\r\n",
    "\r\n",
    "    return comments_html_list"
   ]
  },
  {
   "cell_type": "code",
   "execution_count": null,
   "metadata": {},
   "outputs": [],
   "source": [
    "comments_filepath = \"comments.html\"\r\n",
    "comments = read_comments(comments_filepath)\r\n",
    "\r\n",
    "index_html = init_youtubestrap()"
   ]
  },
  {
   "cell_type": "code",
   "execution_count": null,
   "metadata": {},
   "outputs": [],
   "source": [
    "loop = tqdm(comments)\r\n",
    "os.makedirs(\"out\", exist_ok=True)\r\n",
    "index_file_path = \"index.html\"\r\n",
    "content_tag_id = \"HEREISCONTENT\"\r\n",
    "content_tag = index_html.find(\"div\", {\"id\": content_tag_id})\r\n",
    "hti = Html2Image()\r\n",
    "for i, comment in enumerate(loop):\r\n",
    "\tcontent_tag.clear()\r\n",
    "\tcontent_tag.append(comment)\r\n",
    "\twith open(index_file_path, \"w\", encoding=\"utf8\") as f:\r\n",
    "\t\tf.write(index_html.decode(pretty_print=False, eventual_encoding=\"utf8\"))\r\n",
    "\tfname = f'{i}.png'\r\n",
    "\tout_path = os.path.join(\"out\", fname)\r\n",
    "\thti.screenshot(html_file=index_file_path , save_as=fname, size=(500, 200))\r\n",
    "\tshutil.move(fname, out_path)\r\n",
    "os.remove(index_file_path)"
   ]
  },
  {
   "cell_type": "code",
   "execution_count": 17,
   "metadata": {},
   "outputs": [
    {
     "data": {
      "image/png": "[encoded data removed]",
      "text/plain": [
       "<IPython.core.display.Image object>"
      ]
     },
     "metadata": {},
     "output_type": "display_data"
    }
   ],
   "source": [
    "display(Image(filename=os.path.join(\"out\", \"0.png\")))"
   ]
  }
 ],
 "metadata": {
  "interpreter": {
   "hash": "a54d0df1085a0e5643ff3aa347161a613c2599721739009b0d88fd07c2a5f6f5"
  },
  "kernelspec": {
   "display_name": "Python 3.9.2 64-bit",
   "name": "python3"
  },
  "language_info": {
   "codemirror_mode": {
    "name": "ipython",
    "version": 3
   },
   "file_extension": ".py",
   "mimetype": "text/x-python",
   "name": "python",
   "nbconvert_exporter": "python",
   "pygments_lexer": "ipython3",
   "version": "3.9.2"
  },
  "orig_nbformat": 4
 },
 "nbformat": 4,
 "nbformat_minor": 2
}