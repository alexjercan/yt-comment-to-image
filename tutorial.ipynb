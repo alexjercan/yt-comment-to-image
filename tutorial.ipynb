{
 "cells": [
  {
   "cell_type": "code",
   "execution_count": 48,
   "metadata": {},
   "outputs": [],
   "source": [
    "import urllib.request, urllib.error, urllib.parse\r\n",
    "from bs4 import BeautifulSoup\r\n",
    "from html2image import Html2Image\r\n",
    "from tqdm import tqdm\r\n",
    "import os\r\n",
    "import shutil"
   ]
  },
  {
   "cell_type": "code",
   "execution_count": 82,
   "metadata": {},
   "outputs": [],
   "source": [
    "comments_file_path = \"comments.html\"\r\n",
    "youtubestrap_file_path = \"youtubestrap.html\"\r\n",
    "index_file_path = \"index.html\"\r\n",
    "\r\n",
    "content_tag_id = \"HEREISCONTENT\"\r\n",
    "\r\n",
    "hti = Html2Image()"
   ]
  },
  {
   "cell_type": "code",
   "execution_count": 83,
   "metadata": {},
   "outputs": [],
   "source": [
    "# Read comments from comments.html file created by user\r\n",
    "with open(comments_file_path, \"r\", encoding=\"utf8\") as f:\r\n",
    "\tcomments_file_content = f.read()\r\n",
    " \r\n",
    "comments_html = BeautifulSoup(comments_file_content)\r\n",
    "comments_html_list = comments_html(\"ytd-comment-renderer\")"
   ]
  },
  {
   "cell_type": "code",
   "execution_count": 85,
   "metadata": {},
   "outputs": [],
   "source": [
    "# Read the contents of the youtubestrap.html file and setup styles and new content tag\r\n",
    "with open(youtubestrap_file_path, \"r\", encoding=\"utf8\") as f:\r\n",
    "    youtubestrap = f.read()\r\n",
    "    \r\n",
    "youtubestrap_html = BeautifulSoup(youtubestrap)\r\n",
    "youtubestrap_head_html = youtubestrap_html.find(\"head\")\r\n",
    "\r\n",
    "youtubestrap_styles_html = youtubestrap_head_html.children\r\n",
    "youtubestrap_body_html = youtubestrap_html.find(\"body\")"
   ]
  },
  {
   "cell_type": "code",
   "execution_count": 87,
   "metadata": {},
   "outputs": [],
   "source": [
    "# download a yt webpage to change\r\n",
    "url = \"https://www.youtube.com/watch?v=1-emQo-7O3Y\"\r\n",
    "\r\n",
    "response = urllib.request.urlopen(url)\r\n",
    "index_file_content = response.read()"
   ]
  },
  {
   "cell_type": "code",
   "execution_count": 88,
   "metadata": {},
   "outputs": [
    {
     "name": "stderr",
     "output_type": "stream",
     "text": [
      "  0%|          | 0/359 [00:14<?, ?it/s]\n"
     ]
    }
   ],
   "source": [
    "os.makedirs(\"out\", exist_ok=True)\r\n",
    "\r\n",
    "loop = tqdm(comments_html_list)\r\n",
    "\r\n",
    "index_html = BeautifulSoup(index_file_content)\r\n",
    "head_tag = index_html.find(\"head\")\r\n",
    "head_tag.extend(list(youtubestrap_styles_html))\r\n",
    "\r\n",
    "content_tag = youtubestrap_body_html.find(\"div\", {\"id\": content_tag_id})\r\n",
    "\r\n",
    "for i, comment in enumerate(loop):\r\n",
    "\tcontent_tag.clear()\r\n",
    "\tcontent_tag.append(comment)\r\n",
    "\r\n",
    "\tbody_tag = index_html.find(\"body\")\r\n",
    "\tbody_tag.replaceWith(youtubestrap_body_html)\r\n",
    "\r\n",
    "\twith open(index_file_path, \"w\", encoding=\"utf8\") as f:\r\n",
    "\t\tf.write(index_html.decode(pretty_print=False, eventual_encoding=\"utf8\"))\r\n",
    "  \r\n",
    "\tfname = f'{i}.png'\r\n",
    "\tout_path = os.path.join(\"out\", fname)\r\n",
    "\thti.screenshot(html_file=index_file_path , save_as=fname, size=(500, 200))\r\n",
    "\tshutil.move(fname, out_path) "
   ]
  }
 ],
 "metadata": {
  "interpreter": {
   "hash": "a54d0df1085a0e5643ff3aa347161a613c2599721739009b0d88fd07c2a5f6f5"
  },
  "kernelspec": {
   "display_name": "Python 3.9.2 64-bit",
   "name": "python3"
  },
  "language_info": {
   "name": "python",
   "version": ""
  },
  "orig_nbformat": 4
 },
 "nbformat": 4,
 "nbformat_minor": 2
}